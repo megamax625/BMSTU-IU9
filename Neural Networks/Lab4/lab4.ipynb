{
 "cells": [
  {
   "cell_type": "code",
   "execution_count": 3,
   "id": "6e38b769",
   "metadata": {},
   "outputs": [
    {
     "name": "stderr",
     "output_type": "stream",
     "text": [
      "/home/megamax625/.local/lib/python3.11/site-packages/matplotlib/projections/__init__.py:63: UserWarning: Unable to import Axes3D. This may be due to multiple versions of Matplotlib being installed (e.g. as a system package and as a pip package). As a result, the 3D projection is not available.\n",
      "  warnings.warn(\"Unable to import Axes3D. This may be due to multiple versions of \"\n"
     ]
    }
   ],
   "source": [
    "import os\n",
    "import gzip\n",
    "import shutil\n",
    "import wget\n",
    "import numpy as np\n",
    "import matplotlib.pyplot as plt\n",
    "import time"
   ]
  },
  {
   "cell_type": "markdown",
   "id": "b4ba3af0",
   "metadata": {},
   "source": [
    "### MNIST"
   ]
  },
  {
   "cell_type": "code",
   "execution_count": 4,
   "id": "d283fa55",
   "metadata": {},
   "outputs": [],
   "source": [
    "def download_mnist():\n",
    "    if not os.path.exists(\"train-images-idx3-ubyte.gz\"):\n",
    "        wget.download(\"http://yann.lecun.com/exdb/mnist/train-images-idx3-ubyte.gz\")\n",
    "        wget.download(\"http://yann.lecun.com/exdb/mnist/train-labels-idx1-ubyte.gz\")\n",
    "        wget.download(\"http://yann.lecun.com/exdb/mnist/t10k-images-idx3-ubyte.gz\")\n",
    "        wget.download(\"http://yann.lecun.com/exdb/mnist/t10k-labels-idx1-ubyte.gz\")\n",
    "\n",
    "    with gzip.open(\"train-images-idx3-ubyte.gz\", \"rb\") as f_in, open(\"train-images-idx3-ubyte\", \"wb\") as f_out:\n",
    "        shutil.copyfileobj(f_in, f_out)\n",
    "    with gzip.open(\"train-labels-idx1-ubyte.gz\", \"rb\") as f_in, open(\"train-labels-idx1-ubyte\", \"wb\") as f_out:\n",
    "        shutil.copyfileobj(f_in, f_out)\n",
    "    with gzip.open(\"t10k-images-idx3-ubyte.gz\", \"rb\") as f_in, open(\"t10k-images-idx3-ubyte\", \"wb\") as f_out:\n",
    "        shutil.copyfileobj(f_in, f_out)\n",
    "    with gzip.open(\"t10k-labels-idx1-ubyte.gz\", \"rb\") as f_in, open(\"t10k-labels-idx1-ubyte\", \"wb\") as f_out:\n",
    "        shutil.copyfileobj(f_in, f_out)\n",
    "\n",
    "def load_mnist(dtype=np.float32, as_categorical=False):\n",
    "    train_images_path = \"train-images-idx3-ubyte\"\n",
    "    train_labels_path = \"train-labels-idx1-ubyte\"\n",
    "    test_images_path = \"t10k-images-idx3-ubyte\"\n",
    "    test_labels_path = \"t10k-labels-idx1-ubyte\"\n",
    "\n",
    "    with open(train_images_path, \"rb\") as f:\n",
    "        X_train = np.frombuffer(f.read(), dtype=np.uint8, offset=16).reshape(-1, 784).astype(dtype)\n",
    "\n",
    "    with open(train_labels_path, \"rb\") as f:\n",
    "        y_train = np.frombuffer(f.read(), dtype=np.uint8, offset=8)\n",
    "\n",
    "    with open(test_images_path, \"rb\") as f:\n",
    "        X_test = np.frombuffer(f.read(), dtype=np.uint8, offset=16).reshape(-1, 784).astype(dtype)\n",
    "\n",
    "    with open(test_labels_path, \"rb\") as f:\n",
    "        y_test = np.frombuffer(f.read(), dtype=np.uint8, offset=8)\n",
    "\n",
    "    if as_categorical:\n",
    "        y_train = np.eye(10)[y_train]\n",
    "        y_test = np.eye(10)[y_test]\n",
    "\n",
    "    return (X_train, y_train), (X_test, y_test)"
   ]
  },
  {
   "cell_type": "markdown",
   "id": "f7673e5a",
   "metadata": {},
   "source": [
    "### Activation functions"
   ]
  },
  {
   "cell_type": "code",
   "execution_count": 3,
   "id": "89be9c34",
   "metadata": {},
   "outputs": [],
   "source": [
    "def sigmoid(x):\n",
    "    return 1 / (1 + np.exp(-x))\n",
    "\n",
    "def der_sigmoid(x):\n",
    "    return x * (1 - x)\n",
    "\n",
    "def relu(x):\n",
    "    return np.maximum(0, x)\n",
    "\n",
    "def der_relu(x):\n",
    "    return (x > 0).astype(float)\n",
    "\n",
    "def softmax(x):\n",
    "    exp_x = np.exp(x - np.max(x))\n",
    "    return exp_x / np.sum(exp_x, axis=1, keepdims=True)"
   ]
  },
  {
   "cell_type": "markdown",
   "id": "a3397001",
   "metadata": {},
   "source": [
    "### MLP"
   ]
  },
  {
   "cell_type": "code",
   "execution_count": 4,
   "id": "88481ded",
   "metadata": {},
   "outputs": [],
   "source": [
    "class MLP:   \n",
    "    def __init__(self, input_size, layer_sizes, output_size, activation_function='sigmoid', batch_size=256):\n",
    "        self.layers_sizes = [input_size] + layer_sizes + [output_size]\n",
    "        self.batch_size = batch_size\n",
    "        self.loss_function = 'CE'\n",
    "        self.weights = [np.random.randn(self.layers_sizes[i], self.layers_sizes[i+1]) / np.sqrt(self.layers_sizes[i])\n",
    "                    for i in range(len(self.layers_sizes) - 1)]\n",
    "        self.biases = [np.zeros((1, size)) for size in self.layers_sizes[1:]]\n",
    "        self.params = [p for pair in zip(self.weights, self.biases) for p in pair]\n",
    "        self.activations = []\n",
    "        self.prev_updates = None\n",
    "        self.m = None\n",
    "        self.v = None\n",
    "\n",
    "        self.activation_function = activation_function\n",
    "        self.adagrad_G = [np.zeros_like(param) for param in self.params]\n",
    "\n",
    "    def forward(self, X):\n",
    "        activations = [X]\n",
    "        prev_activations = []\n",
    "        for W, b in zip(self.weights, self.biases):\n",
    "            Z = np.dot(activations[-1], W) + b\n",
    "            prev_activations.append(Z)\n",
    "            if W is not self.weights[-1]:\n",
    "                if self.activation_function == 'sigmoid':\n",
    "                    A = sigmoid(Z)\n",
    "                elif self.activation_function == 'relu':\n",
    "                    A = relu(Z)\n",
    "            else:\n",
    "                A = softmax(Z)\n",
    "            activations.append(A)\n",
    "\n",
    "        self.activations = activations\n",
    "        self.prev_activations = prev_activations\n",
    "\n",
    "    def get_grad_and_loss(self, X, y):\n",
    "        m = X.shape[0]\n",
    "        gradients = [0] * len(self.params)\n",
    "        clipped_A = np.clip(self.activations[-1], 1e-8, 1.0 - 1e-8)\n",
    "        clipped_y = np.clip(y, 1e-10, 1.0 - 1e-10)\n",
    "\n",
    "        if self.loss_function == 'CE':\n",
    "            loss = -np.mean(clipped_y * np.log(clipped_A))\n",
    "        elif self.loss_function == 'KLD':\n",
    "            loss = np.sum(clipped_y * np.log(clipped_y / clipped_A), axis=1).mean()\n",
    "        elif self.loss_function == 'MSE':\n",
    "            loss = np.mean((y - self.activations[-1]) ** 2)\n",
    "\n",
    "        delta = self.activations[-1] - y\n",
    "        gradients[-1] = (1 / m) * np.sum(delta, axis=0, keepdims=True)\n",
    "        gradients[-2] = (1 / m) * np.dot(self.activations[-2].T, delta)\n",
    "\n",
    "        for i in range(len(self.layers_sizes) - 3, -1, -1):\n",
    "            if self.activation_function == 'sigmoid':\n",
    "                delta = np.dot(delta, self.weights[i+1].T) * der_sigmoid(self.activations[i+1])\n",
    "            elif self.activation_function == 'relu':\n",
    "                delta = np.dot(delta, self.weights[i+1].T) * der_relu(self.activations[i+1])\n",
    "\n",
    "            gradients[2*i] = (1 / m) * np.dot(self.activations[i].T, delta)\n",
    "            gradients[2*i + 1] = (1 / m) * np.sum(delta, axis=0, keepdims=True)\n",
    "\n",
    "        return gradients, loss\n",
    "    \n",
    "    def sgd(self, gradients):\n",
    "        for i, g in enumerate(gradients):\n",
    "            self.params[i] -= self.learning_rate * g\n",
    "\n",
    "    def nag(self, gradients):\n",
    "        momentums = [0] * len(self.params)\n",
    "        if self.prev_updates is not None:\n",
    "            for i in range(len(self.params)):\n",
    "                momentums[i] = 0.9*self.prev_updates[i] + self.learning_rate * gradients[i]\n",
    "                self.params[i] -= momentums[i]\n",
    "        else:\n",
    "            for i, g in enumerate(gradients):\n",
    "                momentums[i] = self.learning_rate * g\n",
    "                self.params[i] -= momentums[i]\n",
    "        self.prev_updates = momentums.copy()\n",
    "\n",
    "    def adagrad(self, gradients, epsilon=1e-8):\n",
    "        for i, g in enumerate(gradients):\n",
    "            self.adagrad_G[i] += g * g\n",
    "            self.params[i] -= self.learning_rate * g / (np.sqrt(self.adagrad_G[i]) + epsilon)\n",
    "            \n",
    "    def adam(self, gradients, t):\n",
    "        beta1 = 0.9\n",
    "        beta2 = 0.999\n",
    "        epsilon = 1e-8\n",
    "\n",
    "        if self.m is None:\n",
    "            self.m = [np.zeros_like(p) for p in self.params]\n",
    "        if self.v is None:\n",
    "            self.v = [np.zeros_like(p) for p in self.params]\n",
    "\n",
    "        for i, (m, v, g) in enumerate(zip(self.m, self.v, gradients)):\n",
    "            m = beta1 * m + (1 - beta1) * g\n",
    "            v = beta2 * v + (1 - beta2) * g * g\n",
    "\n",
    "            m_cap = m / (1 - beta1 ** t)\n",
    "            v_cap = v / (1 - beta2 ** t)\n",
    "\n",
    "            self.params[i] -= (self.learning_rate / (np.sqrt(v_cap) + epsilon)) * m_cap\n",
    "\n",
    "            self.m[i] = m\n",
    "            self.v[i] = v        \n",
    "\n",
    "    def fit(self, X, y, optimization_method='SGD', debug=True, epochs=150, lr=0.05):\n",
    "        self.optimization_method = optimization_method\n",
    "        self.losses = []\n",
    "        self.learning_rate = lr\n",
    "        num_batches = X.shape[0] // self.batch_size\n",
    "        for i in range(epochs):\n",
    "            epoch_start_time = time.time()\n",
    "            epoch_loss = 0\n",
    "            for batch_index in range(num_batches):\n",
    "                start = batch_index * self.batch_size\n",
    "                end = (batch_index + 1) * self.batch_size\n",
    "\n",
    "                X_batch = X[start:end, :]\n",
    "                y_batch = y[start:end, :]\n",
    "\n",
    "                self.forward(X_batch)\n",
    "                gradients, loss = self.get_grad_and_loss(X_batch, y_batch)\n",
    "                if self.optimization_method == 'SGD':\n",
    "                    self.sgd(gradients)\n",
    "                elif self.optimization_method == 'NAG':\n",
    "                    self.nag(gradients)\n",
    "                elif self.optimization_method == 'Adagrad':\n",
    "                    self.adagrad(gradients)\n",
    "                elif self.optimization_method == 'Adam':\n",
    "                    self.adam(gradients, i + 1)\n",
    "                epoch_loss += loss\n",
    "\n",
    "            epoch_loss /= num_batches\n",
    "                \n",
    "            if debug:\n",
    "                print(f\"Epoch №{i + 1}, loss: {epoch_loss}, time spent: {time.time() - epoch_start_time:.2f}s\")\n",
    "            self.losses.append(epoch_loss)\n",
    "\n",
    "    def predict(self, X):\n",
    "        self.forward(X)\n",
    "        return np.argmax(self.activations[-1], axis=1)\n",
    "\n",
    "    def predict_logits(self, X):\n",
    "        self.forward(X)\n",
    "        return self.activations[-1]"
   ]
  },
  {
   "cell_type": "markdown",
   "id": "fe75fbdb",
   "metadata": {},
   "source": [
    "### Train"
   ]
  },
  {
   "cell_type": "code",
   "execution_count": 8,
   "id": "1b689839",
   "metadata": {},
   "outputs": [],
   "source": [
    "(X_train, y_train), (X_test, y_test) = load_mnist(dtype=np.float32, as_categorical=True)\n",
    "\n",
    "X_train /= 255\n",
    "X_test /= 255"
   ]
  },
  {
   "cell_type": "code",
   "execution_count": 6,
   "id": "f1cc1be7",
   "metadata": {},
   "outputs": [
    {
     "name": "stdout",
     "output_type": "stream",
     "text": [
      "Epoch №1, loss: 0.1446373653057512, time spent: 2.78s\n",
      "Epoch №2, loss: 0.052425300022487194, time spent: 1.61s\n",
      "Epoch №3, loss: 0.03829996320933972, time spent: 2.84s\n",
      "Epoch №4, loss: 0.03259571351610797, time spent: 1.79s\n",
      "Epoch №5, loss: 0.028962239238404176, time spent: 1.74s\n",
      "Epoch №6, loss: 0.026167573540613723, time spent: 1.76s\n",
      "Epoch №7, loss: 0.023850145261605005, time spent: 1.64s\n",
      "Epoch №8, loss: 0.021876500924061806, time spent: 1.83s\n",
      "Epoch №9, loss: 0.02018179134665078, time spent: 1.73s\n",
      "Epoch №10, loss: 0.018719740355913634, time spent: 1.64s\n",
      "Epoch №11, loss: 0.017450334553615585, time spent: 1.61s\n",
      "Epoch №12, loss: 0.016339290403624012, time spent: 3.96s\n",
      "Epoch №13, loss: 0.01535891995482139, time spent: 3.60s\n",
      "Epoch №14, loss: 0.014487431858351506, time spent: 4.22s\n",
      "Epoch №15, loss: 0.013707592436019373, time spent: 4.11s\n",
      "Epoch №16, loss: 0.013005639635648493, time spent: 3.61s\n",
      "Epoch №17, loss: 0.012370410558940757, time spent: 1.77s\n",
      "Epoch №18, loss: 0.011792647774241292, time spent: 1.94s\n",
      "Epoch №19, loss: 0.011264567007342737, time spent: 3.94s\n",
      "Epoch №20, loss: 0.010779621620555185, time spent: 3.70s\n"
     ]
    }
   ],
   "source": [
    "mlp_sgd = MLP(input_size=784, layer_sizes=[64, 64], output_size=10, batch_size=32)\n",
    "mlp_sgd.fit(X_train, y_train, optimization_method='SGD', epochs=20)"
   ]
  },
  {
   "cell_type": "code",
   "execution_count": 7,
   "id": "89dbe854",
   "metadata": {},
   "outputs": [
    {
     "name": "stdout",
     "output_type": "stream",
     "text": [
      "Epoch №1, loss: 0.048122507389613475, time spent: 2.25s\n",
      "Epoch №2, loss: 0.01861847938652207, time spent: 4.38s\n",
      "Epoch №3, loss: 0.013132513964533713, time spent: 2.98s\n",
      "Epoch №4, loss: 0.010303141786986448, time spent: 2.11s\n",
      "Epoch №5, loss: 0.00852315061238843, time spent: 3.30s\n",
      "Epoch №6, loss: 0.007247021554570612, time spent: 2.43s\n",
      "Epoch №7, loss: 0.006229060385370783, time spent: 1.92s\n",
      "Epoch №8, loss: 0.005348886278795014, time spent: 2.25s\n",
      "Epoch №9, loss: 0.004582166163670898, time spent: 2.03s\n",
      "Epoch №10, loss: 0.003926721874298, time spent: 2.16s\n",
      "Epoch №11, loss: 0.0033677217202131024, time spent: 1.89s\n",
      "Epoch №12, loss: 0.0028864091122718853, time spent: 2.30s\n",
      "Epoch №13, loss: 0.002474676807297721, time spent: 2.54s\n",
      "Epoch №14, loss: 0.0021146773117893458, time spent: 4.75s\n",
      "Epoch №15, loss: 0.0017995917860215134, time spent: 4.83s\n",
      "Epoch №16, loss: 0.0015291191814635985, time spent: 2.86s\n",
      "Epoch №17, loss: 0.0013125568056637708, time spent: 2.77s\n",
      "Epoch №18, loss: 0.0011372663455338878, time spent: 2.95s\n",
      "Epoch №19, loss: 0.000989861453102539, time spent: 2.60s\n",
      "Epoch №20, loss: 0.0008613293947901236, time spent: 2.54s\n"
     ]
    }
   ],
   "source": [
    "mlp_nag = MLP(input_size=784, layer_sizes=[64, 64], output_size=10, batch_size=32)\n",
    "mlp_nag.fit(X_train, y_train, optimization_method='NAG', epochs=20)"
   ]
  },
  {
   "cell_type": "code",
   "execution_count": 8,
   "id": "54336d7d",
   "metadata": {},
   "outputs": [
    {
     "name": "stdout",
     "output_type": "stream",
     "text": [
      "Epoch №1, loss: 0.02584478047143922, time spent: 5.65s\n",
      "Epoch №2, loss: 0.01360446635647952, time spent: 7.48s\n",
      "Epoch №3, loss: 0.010761117397984262, time spent: 4.35s\n",
      "Epoch №4, loss: 0.009095117179405124, time spent: 4.23s\n",
      "Epoch №5, loss: 0.007954979122802141, time spent: 3.30s\n",
      "Epoch №6, loss: 0.007099906578016096, time spent: 3.41s\n",
      "Epoch №7, loss: 0.006418239312071164, time spent: 4.44s\n",
      "Epoch №8, loss: 0.0058547265810120494, time spent: 6.76s\n",
      "Epoch №9, loss: 0.005377842902074303, time spent: 7.00s\n",
      "Epoch №10, loss: 0.0049667914222018055, time spent: 3.31s\n",
      "Epoch №11, loss: 0.004607110830212453, time spent: 3.38s\n",
      "Epoch №12, loss: 0.00428895944230547, time spent: 3.88s\n",
      "Epoch №13, loss: 0.004005520196473, time spent: 4.79s\n",
      "Epoch №14, loss: 0.003750742545304013, time spent: 4.81s\n",
      "Epoch №15, loss: 0.0035198836515157746, time spent: 4.46s\n",
      "Epoch №16, loss: 0.0033095727915339232, time spent: 4.95s\n",
      "Epoch №17, loss: 0.0031169870941993626, time spent: 4.77s\n",
      "Epoch №18, loss: 0.002939663343884872, time spent: 5.45s\n",
      "Epoch №19, loss: 0.002775643558611349, time spent: 5.94s\n",
      "Epoch №20, loss: 0.002623437943287365, time spent: 3.64s\n"
     ]
    }
   ],
   "source": [
    "mlp_adagrad = MLP(input_size=784, layer_sizes=[64, 64], output_size=10, batch_size=32)\n",
    "mlp_adagrad.fit(X_train, y_train, optimization_method='Adagrad', epochs=20)"
   ]
  },
  {
   "cell_type": "code",
   "execution_count": 9,
   "id": "a556d410",
   "metadata": {},
   "outputs": [
    {
     "name": "stdout",
     "output_type": "stream",
     "text": [
      "Epoch №1, loss: 0.037794044656233296, time spent: 4.63s\n",
      "Epoch №2, loss: 0.022423224941374883, time spent: 6.67s\n",
      "Epoch №3, loss: 0.018473396539854123, time spent: 6.05s\n",
      "Epoch №4, loss: 0.01614759914671468, time spent: 9.19s\n",
      "Epoch №5, loss: 0.014229022065194713, time spent: 6.94s\n",
      "Epoch №6, loss: 0.01286732424831502, time spent: 6.76s\n",
      "Epoch №7, loss: 0.011975278670392307, time spent: 4.68s\n",
      "Epoch №8, loss: 0.010826033673611355, time spent: 5.08s\n",
      "Epoch №9, loss: 0.009971806210711658, time spent: 4.55s\n",
      "Epoch №10, loss: 0.009407464802235685, time spent: 7.69s\n",
      "Epoch №11, loss: 0.008731558458126083, time spent: 7.51s\n",
      "Epoch №12, loss: 0.008503032607695188, time spent: 8.64s\n",
      "Epoch №13, loss: 0.007786925940823636, time spent: 6.32s\n",
      "Epoch №14, loss: 0.007232725165335561, time spent: 6.10s\n",
      "Epoch №15, loss: 0.0070666461803501526, time spent: 4.73s\n",
      "Epoch №16, loss: 0.006303711906888351, time spent: 4.91s\n",
      "Epoch №17, loss: 0.006483341514729039, time spent: 4.57s\n",
      "Epoch №18, loss: 0.006194682717016054, time spent: 4.98s\n",
      "Epoch №19, loss: 0.005918934033580995, time spent: 4.51s\n",
      "Epoch №20, loss: 0.005830118769732606, time spent: 4.82s\n"
     ]
    }
   ],
   "source": [
    "mlp_adam = MLP(input_size=784, layer_sizes=[64, 64], output_size=10, batch_size=32)\n",
    "mlp_adam.fit(X_train, y_train, optimization_method='Adam', epochs=20)"
   ]
  },
  {
   "cell_type": "code",
   "execution_count": 10,
   "id": "16389bcd",
   "metadata": {},
   "outputs": [],
   "source": [
    "clfs = [mlp_sgd, mlp_nag, mlp_adagrad, mlp_adam]\n",
    "labels = ['SGD', 'NAG', 'Adagrad', 'Adam']\n",
    "losses = []\n",
    "for clf in clfs:\n",
    "    losses.append(clf.losses)"
   ]
  },
  {
   "cell_type": "code",
   "execution_count": 11,
   "id": "28498eb8",
   "metadata": {},
   "outputs": [
    {
     "data": {
      "text/plain": [
       "<matplotlib.legend.Legend at 0x7f24af2c24d0>"
      ]
     },
     "execution_count": 11,
     "metadata": {},
     "output_type": "execute_result"
    },
    {
     "data": {
      "image/png": "[encoded data removed]",
      "text/plain": [
       "<Figure size 1280x960 with 1 Axes>"
      ]
     },
     "metadata": {},
     "output_type": "display_data"
    }
   ],
   "source": [
    "plt.figure(figsize=(16, 12), dpi=80)\n",
    "\n",
    "plt.plot(np.c_[losses[0], losses[1], losses[2], losses[3]], label=labels)\n",
    "plt.title(\"Optimizer comparison\")\n",
    "plt.xlabel(\"Epoch\")\n",
    "plt.ylabel(\"Loss\")\n",
    "plt.legend()"
   ]
  },
  {
   "cell_type": "markdown",
   "id": "aafd1b88",
   "metadata": {},
   "source": [
    "### Генетический алгоритм"
   ]
  },
  {
   "cell_type": "code",
   "execution_count": 39,
   "id": "fc3dfa37",
   "metadata": {},
   "outputs": [],
   "source": [
    "import random\n",
    "import numpy as np\n",
    "from typing import List\n",
    "from tqdm import tqdm\n",
    "\n",
    "class Pop_Specimen:\n",
    "    def __init__(self, layer_sizes: List[int]):\n",
    "        self.layer_sizes = layer_sizes\n",
    "\n",
    "    def get_fitness_score(self, **kwargs):\n",
    "        mlp = MLP(input_size=784, layer_sizes=self.layer_sizes, output_size=10, batch_size=64)\n",
    "        _ = mlp.fit(X_train, y_train, optimization_method='SGD', epochs=1, debug=False, lr=0.1)\n",
    "        \n",
    "        prediction = mlp.predict(X_test)\n",
    "        true_res = np.argmax(y_test, axis=1)\n",
    "        fitness = np.mean(prediction == true_res)\n",
    "        return fitness\n",
    "\n",
    "    @classmethod\n",
    "    def create_random(cls, max_lsize: int = 200, max_lamount: int = 5):\n",
    "        num_layers = random.randint(1, max_lamount)\n",
    "        return cls([random.randint(1, max_lsize) for _ in range(num_layers)])\n",
    "\n",
    "    def __repr__(self) -> str:\n",
    "        return f\"Sp({self.layer_sizes})\"\n",
    "\n",
    "\n",
    "def mutation(item: Pop_Specimen) -> Pop_Specimen:\n",
    "    layer_sizes = item.layer_sizes.copy()\n",
    "    mut_layer = random.choice(layer_sizes)\n",
    "    mut_layer += random.randint(-50, 50)\n",
    "\n",
    "    if len(layer_sizes) > 1:\n",
    "        if random.random() < 0.5:\n",
    "            layer_sizes.pop(random.randint(0, len(layer_sizes)-1))\n",
    "\n",
    "    if random.random() < 0.5:\n",
    "        layer_sizes.insert(random.randint(0, len(layer_sizes)-1), random.randint(1, 100))\n",
    "\n",
    "    for i in range(len(layer_sizes)):\n",
    "        if layer_sizes[i] < 1:\n",
    "            layer_sizes[i] = random.randint(1, 50)\n",
    "    return Pop_Specimen(layer_sizes)\n",
    "\n",
    "\n",
    "def crossover(parent1: Pop_Specimen, parent2: Pop_Specimen) -> Pop_Specimen:\n",
    "    n = len(parent1.layer_sizes)\n",
    "    m = len(parent2.layer_sizes)\n",
    "    layers_num = random.choice([min(n, m), (n + m)//2])\n",
    "    new_layer_sizes = []\n",
    "\n",
    "    if layers_num == 1:\n",
    "        new_layer_sizes = [(parent1.layer_sizes[0] + parent2.layer_sizes[0])//2]\n",
    "    else:\n",
    "        for i in range(layers_num):\n",
    "            if n <= i:\n",
    "                new_layer_sizes.append(parent2.layer_sizes[i])\n",
    "            elif m <= i:\n",
    "                new_layer_sizes.append(parent1.layer_sizes[i])\n",
    "            else:\n",
    "                new_layer_sizes.append(random.choice([parent1.layer_sizes[i], parent2.layer_sizes[i], parent1.layer_sizes[0] + parent2.layer_sizes[0]//2]))\n",
    "\n",
    "    return Pop_Specimen(new_layer_sizes)\n",
    "\n",
    "\n",
    "def genetic_algorithm(\n",
    "    pop_size: int, num_gens: int, select_num: int, crossbreed_p: float, mutation_p: float,\n",
    "    train_data, train_labels, test_data, test_labels,\n",
    "):\n",
    "    pop = []\n",
    "    for _ in range(pop_size):\n",
    "        pop.append((Pop_Specimen.create_random(), None))\n",
    "\n",
    "    fitnesses_history = []\n",
    "    for _ in tqdm(range(num_gens)):\n",
    "        fitness_scores = []\n",
    "        for (item, score) in pop:\n",
    "            fitness = score\n",
    "            if score is None:\n",
    "                fitness = item.get_fitness_score(X_train=train_data, y_train=train_labels, X_test=test_data, y_test=test_labels, debug=False)\n",
    "            fitness_scores.append(fitness)\n",
    "        fitnesses_history.append(fitness_scores)\n",
    "        \n",
    "        pop_fitness = [(pop[i][0], fitness_scores[i]) for i in range(len(fitness_scores))]\n",
    "        print(sorted(pop_fitness, key=lambda x: x[1]))\n",
    "        print('Max fitness:', max(fitness_scores))\n",
    "        new_pop_wfitness = sorted(pop_fitness, key=lambda x: x[1])[-select_num:]\n",
    "        \n",
    "        children = []\n",
    "        for i in range(pop_size-select_num):\n",
    "            if random.random()<crossbreed_p:\n",
    "                parent1, parent2 = random.choices([i[0] for i in new_pop_wfitness], weights=[i[1] for i in new_pop_wfitness], k=2)\n",
    "                children.append(crossover(parent1, parent2))\n",
    "            else:\n",
    "                children.append(Pop_Specimen.create_random())\n",
    "\n",
    "        for i in range(len(children)):\n",
    "            if random.random() < mutation_p:\n",
    "                children[i] = mutation(children[i])\n",
    "\n",
    "        pop = new_pop_wfitness+[(i, None) for i in children]\n",
    "            \n",
    "\n",
    "    best_specimen = max(\n",
    "        pop_fitness,\n",
    "        key=lambda x: x[1]\n",
    "    )\n",
    "    return best_specimen, fitnesses_history"
   ]
  },
  {
   "cell_type": "code",
   "execution_count": 40,
   "id": "7b30e978",
   "metadata": {
    "scrolled": true
   },
   "outputs": [
    {
     "name": "stderr",
     "output_type": "stream",
     "text": [
      " 10%|█         | 1/10 [01:57<17:37, 117.51s/it]"
     ]
    },
    {
     "name": "stdout",
     "output_type": "stream",
     "text": [
      "[(Sp([3, 149, 194, 89, 126]), 0.0982), (Sp([154, 8, 171, 146, 192]), 0.0982), (Sp([122, 149, 76, 43]), 0.1028), (Sp([11, 164, 126, 41]), 0.1028), (Sp([162, 109, 112, 77]), 0.1028), (Sp([181, 124, 81, 77]), 0.1028), (Sp([59, 105, 151, 7]), 0.1028), (Sp([191, 2]), 0.2349), (Sp([125, 200, 144]), 0.4196), (Sp([90, 128, 86]), 0.4568), (Sp([189, 140, 103]), 0.4579), (Sp([134, 97, 60]), 0.4645), (Sp([37, 29]), 0.7479), (Sp([67, 39]), 0.7992), (Sp([179, 158]), 0.8201), (Sp([184, 156]), 0.8271), (Sp([153]), 0.8902), (Sp([44]), 0.8915), (Sp([122]), 0.8922), (Sp([83]), 0.8923)]\n",
      "Max fitness: 0.8923\n"
     ]
    },
    {
     "name": "stderr",
     "output_type": "stream",
     "text": [
      " 20%|██        | 2/10 [02:48<10:25, 78.22s/it] "
     ]
    },
    {
     "name": "stdout",
     "output_type": "stream",
     "text": [
      "[(Sp([179, 118, 188, 170]), 0.0982), (Sp([138, 147, 43, 154]), 0.0982), (Sp([94, 121, 167, 27]), 0.1028), (Sp([43, 117, 87, 123, 108]), 0.1028), (Sp([189, 140, 103]), 0.4579), (Sp([134, 97, 60]), 0.4645), (Sp([11, 31]), 0.7139), (Sp([37, 29]), 0.7479), (Sp([67, 39]), 0.7992), (Sp([179, 158]), 0.8201), (Sp([184, 156]), 0.8271), (Sp([189, 140]), 0.8329), (Sp([35, 173]), 0.8365), (Sp([60]), 0.8899), (Sp([153]), 0.8902), (Sp([104]), 0.891), (Sp([140]), 0.8913), (Sp([44]), 0.8915), (Sp([122]), 0.8922), (Sp([83]), 0.8923)]\n",
      "Max fitness: 0.8923\n"
     ]
    },
    {
     "name": "stderr",
     "output_type": "stream",
     "text": [
      " 30%|███       | 3/10 [03:11<06:12, 53.15s/it]"
     ]
    },
    {
     "name": "stdout",
     "output_type": "stream",
     "text": [
      "[(Sp([158, 19, 72, 122]), 0.0982), (Sp([144, 74, 41, 154, 121]), 0.0982), (Sp([46, 155, 120, 132, 59]), 0.1028), (Sp([52, 147, 144]), 0.4431), (Sp([139, 107]), 0.8238), (Sp([184, 156]), 0.8271), (Sp([189, 140]), 0.8329), (Sp([35, 173]), 0.8365), (Sp([168]), 0.8893), (Sp([60]), 0.8899), (Sp([153]), 0.8902), (Sp([126]), 0.8902), (Sp([122]), 0.8906), (Sp([104]), 0.891), (Sp([140]), 0.8913), (Sp([44]), 0.8915), (Sp([153]), 0.8918), (Sp([122]), 0.8922), (Sp([83]), 0.8923), (Sp([91]), 0.8925)]\n",
      "Max fitness: 0.8925\n"
     ]
    },
    {
     "name": "stderr",
     "output_type": "stream",
     "text": [
      " 40%|████      | 4/10 [03:31<03:59, 39.90s/it]"
     ]
    },
    {
     "name": "stdout",
     "output_type": "stream",
     "text": [
      "[(Sp([34, 46, 110, 130]), 0.0982), (Sp([139, 47, 131, 141, 82]), 0.1028), (Sp([87, 168, 8, 192, 61]), 0.1028), (Sp([61, 90, 83]), 0.4508), (Sp([35, 85]), 0.8039), (Sp([150, 169]), 0.8296), (Sp([19]), 0.8771), (Sp([153]), 0.8902), (Sp([126]), 0.8902), (Sp([128]), 0.8904), (Sp([122]), 0.8906), (Sp([104]), 0.891), (Sp([140]), 0.8913), (Sp([44]), 0.8915), (Sp([137]), 0.8916), (Sp([153]), 0.8918), (Sp([122]), 0.8922), (Sp([146]), 0.8922), (Sp([83]), 0.8923), (Sp([91]), 0.8925)]\n",
      "Max fitness: 0.8925\n"
     ]
    },
    {
     "name": "stderr",
     "output_type": "stream",
     "text": [
      " 50%|█████     | 5/10 [03:51<02:45, 33.00s/it]"
     ]
    },
    {
     "name": "stdout",
     "output_type": "stream",
     "text": [
      "[(Sp([160, 104, 90, 152]), 0.0982), (Sp([113, 89, 138, 85]), 0.1028), (Sp([111, 16, 195]), 0.436), (Sp([6, 129]), 0.8095), (Sp([29, 114]), 0.8227), (Sp([146, 182]), 0.827), (Sp([138, 194]), 0.8297), (Sp([131]), 0.8886), (Sp([137]), 0.89), (Sp([122]), 0.8906), (Sp([97]), 0.8908), (Sp([104]), 0.891), (Sp([140]), 0.8913), (Sp([44]), 0.8915), (Sp([137]), 0.8916), (Sp([153]), 0.8918), (Sp([122]), 0.8922), (Sp([146]), 0.8922), (Sp([83]), 0.8923), (Sp([91]), 0.8925)]\n",
      "Max fitness: 0.8925\n"
     ]
    },
    {
     "name": "stderr",
     "output_type": "stream",
     "text": [
      " 60%|██████    | 6/10 [04:12<01:54, 28.74s/it]"
     ]
    },
    {
     "name": "stdout",
     "output_type": "stream",
     "text": [
      "[(Sp([126, 141, 122, 61, 120]), 0.0982), (Sp([47, 20, 91]), 0.3912), (Sp([136, 45, 99]), 0.4051), (Sp([69, 70, 134]), 0.4136), (Sp([54, 27]), 0.7724), (Sp([175, 190]), 0.8251), (Sp([68, 171]), 0.8286), (Sp([97]), 0.8908), (Sp([104]), 0.891), (Sp([140]), 0.8913), (Sp([44]), 0.8915), (Sp([137]), 0.8916), (Sp([153]), 0.8918), (Sp([141]), 0.892), (Sp([122]), 0.8922), (Sp([146]), 0.8922), (Sp([83]), 0.8923), (Sp([93]), 0.8924), (Sp([118]), 0.8924), (Sp([91]), 0.8925)]\n",
      "Max fitness: 0.8925\n"
     ]
    },
    {
     "name": "stderr",
     "output_type": "stream",
     "text": [
      " 70%|███████   | 7/10 [04:34<01:20, 26.68s/it]"
     ]
    },
    {
     "name": "stdout",
     "output_type": "stream",
     "text": [
      "[(Sp([168, 124, 51, 134]), 0.0982), (Sp([74, 187, 129, 12]), 0.1028), (Sp([92, 200, 102]), 0.3713), (Sp([152, 131, 18]), 0.4299), (Sp([145, 32]), 0.7874), (Sp([193]), 0.8887), (Sp([44]), 0.8915), (Sp([156]), 0.8915), (Sp([137]), 0.8916), (Sp([153]), 0.8918), (Sp([141]), 0.892), (Sp([98]), 0.8921), (Sp([122]), 0.8922), (Sp([146]), 0.8922), (Sp([83]), 0.8923), (Sp([93]), 0.8924), (Sp([118]), 0.8924), (Sp([91]), 0.8925), (Sp([114]), 0.8927), (Sp([100]), 0.8943)]\n",
      "Max fitness: 0.8943\n"
     ]
    },
    {
     "name": "stderr",
     "output_type": "stream",
     "text": [
      " 80%|████████  | 8/10 [04:53<00:48, 24.28s/it]"
     ]
    },
    {
     "name": "stdout",
     "output_type": "stream",
     "text": [
      "[(Sp([178, 115, 33, 110, 114]), 0.0982), (Sp([146, 4, 8, 98, 122]), 0.0982), (Sp([106, 49, 5]), 0.23), (Sp([65, 77]), 0.7974), (Sp([120]), 0.8894), (Sp([132]), 0.8902), (Sp([112]), 0.8911), (Sp([141]), 0.892), (Sp([98]), 0.8921), (Sp([80]), 0.8921), (Sp([122]), 0.8922), (Sp([146]), 0.8922), (Sp([83]), 0.8923), (Sp([93]), 0.8924), (Sp([118]), 0.8924), (Sp([116]), 0.8924), (Sp([91]), 0.8925), (Sp([114]), 0.8927), (Sp([89]), 0.8927), (Sp([100]), 0.8943)]\n",
      "Max fitness: 0.8943\n"
     ]
    },
    {
     "name": "stderr",
     "output_type": "stream",
     "text": [
      " 90%|█████████ | 9/10 [05:16<00:23, 23.80s/it]"
     ]
    },
    {
     "name": "stdout",
     "output_type": "stream",
     "text": [
      "[(Sp([127, 113, 166, 2, 189]), 0.0982), (Sp([67, 9, 106, 113, 2]), 0.1028), (Sp([164, 122, 94, 19]), 0.1028), (Sp([141, 185, 125]), 0.4196), (Sp([194, 118, 158]), 0.4314), (Sp([117]), 0.8904), (Sp([116]), 0.8918), (Sp([101]), 0.8918), (Sp([122]), 0.8922), (Sp([146]), 0.8922), (Sp([83]), 0.8923), (Sp([93]), 0.8924), (Sp([118]), 0.8924), (Sp([116]), 0.8924), (Sp([91]), 0.8925), (Sp([114]), 0.8927), (Sp([89]), 0.8927), (Sp([96]), 0.8927), (Sp([58]), 0.8942), (Sp([100]), 0.8943)]\n",
      "Max fitness: 0.8943\n"
     ]
    },
    {
     "name": "stderr",
     "output_type": "stream",
     "text": [
      "100%|██████████| 10/10 [05:31<00:00, 33.18s/it]"
     ]
    },
    {
     "name": "stdout",
     "output_type": "stream",
     "text": [
      "[(Sp([74, 63, 144, 148]), 0.0982), (Sp([44, 3, 32, 185]), 0.0982), (Sp([1, 143, 91, 151, 42]), 0.1028), (Sp([7, 105]), 0.771), (Sp([74, 162]), 0.8295), (Sp([103]), 0.8905), (Sp([117]), 0.8916), (Sp([56]), 0.8916), (Sp([83]), 0.8923), (Sp([93]), 0.8924), (Sp([118]), 0.8924), (Sp([116]), 0.8924), (Sp([91]), 0.8925), (Sp([114]), 0.8927), (Sp([89]), 0.8927), (Sp([96]), 0.8927), (Sp([107]), 0.8932), (Sp([58]), 0.8942), (Sp([77]), 0.8942), (Sp([100]), 0.8943)]\n",
      "Max fitness: 0.8943\n"
     ]
    },
    {
     "name": "stderr",
     "output_type": "stream",
     "text": [
      "\n"
     ]
    }
   ],
   "source": [
    "best_specimen, fitnesses_history = genetic_algorithm(\n",
    "    20, 10, 10, 0.4, 0.2,\n",
    "    X_train, y_train, X_test, y_test\n",
    ")"
   ]
  },
  {
   "cell_type": "code",
   "execution_count": 41,
   "id": "6faf969b",
   "metadata": {},
   "outputs": [
    {
     "data": {
      "text/plain": [
       "(Sp([100]), 0.8943)"
      ]
     },
     "execution_count": 41,
     "metadata": {},
     "output_type": "execute_result"
    }
   ],
   "source": [
    "best_specimen"
   ]
  },
  {
   "cell_type": "code",
   "execution_count": 42,
   "id": "7964a24a",
   "metadata": {},
   "outputs": [
    {
     "data": {
      "image/png": "[encoded data removed]",
      "text/plain": [
       "<Figure size 640x480 with 1 Axes>"
      ]
     },
     "metadata": {},
     "output_type": "display_data"
    }
   ],
   "source": [
    "plt.plot([sum(m)/len(m) for m in fitnesses_history])\n",
    "plt.plot([max(m) for m in fitnesses_history])\n",
    "plt.legend(['mean fitness', 'max fitness'])\n",
    "plt.title(\"Genetic algorithm results\")\n",
    "plt.xlabel(\"Epoch\")\n",
    "plt.ylabel(\"Fitness\")\n",
    "plt.show()"
   ]
  }
 ],
 "metadata": {
  "kernelspec": {
   "display_name": "Python 3.8.10 ('my_env': venv)",
   "language": "python",
   "name": "python3"
  },
  "language_info": {
   "codemirror_mode": {
    "name": "ipython",
    "version": 3
   },
   "file_extension": ".py",
   "mimetype": "text/x-python",
   "name": "python",
   "nbconvert_exporter": "python",
   "pygments_lexer": "ipython3",
   "version": "3.11.7"
  },
  "vscode": {
   "interpreter": {
    "hash": "c0631669031092563b3d02ac439c9ca7f6f97a046b581ae47ebb5a6a1d275b61"
   }
  }
 },
 "nbformat": 4,
 "nbformat_minor": 5
}
